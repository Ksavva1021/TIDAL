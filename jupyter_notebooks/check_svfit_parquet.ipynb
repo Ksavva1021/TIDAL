{
 "cells": [
  {
   "cell_type": "code",
   "execution_count": 1,
   "metadata": {},
   "outputs": [],
   "source": [
    "import awkward\n",
    "import numpy as np"
   ]
  },
  {
   "cell_type": "code",
   "execution_count": 2,
   "metadata": {},
   "outputs": [],
   "source": [
    "events = awkward.from_parquet(\"/vols/cms/ks1021/offline/HiggsDNA/IC/output/test/Run3_2022/tt/DYto2L_M-50_madgraphMLM/nominal/svfit.parquet\")"
   ]
  },
  {
   "cell_type": "code",
   "execution_count": 3,
   "metadata": {},
   "outputs": [
    {
     "name": "stdout",
     "output_type": "stream",
     "text": [
      "['event', 'run', 'lumi', 'svfitMass', 'svfitMass_err']\n"
     ]
    }
   ],
   "source": [
    "print(events.fields)"
   ]
  },
  {
   "cell_type": "code",
   "execution_count": 5,
   "metadata": {},
   "outputs": [
    {
     "data": {
      "text/plain": [
       "(array([ 0.,  0.,  0.,  0.,  0.,  0.,  0.,  0.,  0.,  0.,  0.,  0.,  0.,\n",
       "         0.,  1.,  2.,  0.,  0.,  0.,  1.,  1.,  0.,  0.,  1.,  0.,  0.,\n",
       "         2.,  0.,  0.,  5.,  1.,  2.,  4.,  6.,  8.,  9., 15., 19., 17.,\n",
       "        26., 23., 21., 33., 27., 28., 27., 25., 29., 38., 43., 21., 50.,\n",
       "        34., 47., 35., 30., 37., 26., 27., 25., 28., 21., 12., 20., 14.,\n",
       "        12., 10., 11., 19., 16., 15., 20., 13.,  9., 16., 12., 13., 10.,\n",
       "        16., 10., 13., 12., 10.,  5.,  6., 11.,  9., 13.,  5.,  7.,  8.,\n",
       "        10.,  6.,  4.,  7.,  3.,  4.,  1.,  4.,  4.]),\n",
       " array([  0.,   2.,   4.,   6.,   8.,  10.,  12.,  14.,  16.,  18.,  20.,\n",
       "         22.,  24.,  26.,  28.,  30.,  32.,  34.,  36.,  38.,  40.,  42.,\n",
       "         44.,  46.,  48.,  50.,  52.,  54.,  56.,  58.,  60.,  62.,  64.,\n",
       "         66.,  68.,  70.,  72.,  74.,  76.,  78.,  80.,  82.,  84.,  86.,\n",
       "         88.,  90.,  92.,  94.,  96.,  98., 100., 102., 104., 106., 108.,\n",
       "        110., 112., 114., 116., 118., 120., 122., 124., 126., 128., 130.,\n",
       "        132., 134., 136., 138., 140., 142., 144., 146., 148., 150., 152.,\n",
       "        154., 156., 158., 160., 162., 164., 166., 168., 170., 172., 174.,\n",
       "        176., 178., 180., 182., 184., 186., 188., 190., 192., 194., 196.,\n",
       "        198., 200.]),\n",
       " <BarContainer object of 100 artists>)"
      ]
     },
     "execution_count": 5,
     "metadata": {},
     "output_type": "execute_result"
    },
    {
     "data": {
      "image/png": "[encoded data removed]",
      "text/plain": [
       "<Figure size 640x480 with 1 Axes>"
      ]
     },
     "metadata": {},
     "output_type": "display_data"
    }
   ],
   "source": [
    "import matplotlib.pyplot as plt\n",
    "\n",
    "plt.hist(events[\"svfitMass\"], bins=100, range=(0, 200))"
   ]
  },
  {
   "cell_type": "code",
   "execution_count": null,
   "metadata": {},
   "outputs": [],
   "source": []
  }
 ],
 "metadata": {
  "kernelspec": {
   "display_name": "Python 3",
   "language": "python",
   "name": "python3"
  },
  "language_info": {
   "codemirror_mode": {
    "name": "ipython",
    "version": 3
   },
   "file_extension": ".py",
   "mimetype": "text/x-python",
   "name": "python",
   "nbconvert_exporter": "python",
   "pygments_lexer": "ipython3",
   "version": "3.9.18"
  }
 },
 "nbformat": 4,
 "nbformat_minor": 2
}
